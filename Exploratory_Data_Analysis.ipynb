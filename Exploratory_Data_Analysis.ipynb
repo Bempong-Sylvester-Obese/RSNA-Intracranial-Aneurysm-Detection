{
  "metadata": {
    "kernelspec": {
      "display_name": "Python 3",
      "name": "python3"
    },
    "language_info": {
      "name": "python",
      "version": "3.11.13",
      "mimetype": "text/x-python",
      "codemirror_mode": {
        "name": "ipython",
        "version": 3
      },
      "pygments_lexer": "ipython3",
      "nbconvert_exporter": "python",
      "file_extension": ".py"
    },
    "kaggle": {
      "accelerator": "none",
      "dataSources": [
        {
          "sourceId": 99552,
          "databundleVersionId": 13190393,
          "sourceType": "competition"
        }
      ],
      "dockerImageVersionId": 31089,
      "isInternetEnabled": true,
      "language": "python",
      "sourceType": "notebook",
      "isGpuEnabled": false
    },
    "colab": {
      "provenance": [],
      "include_colab_link": true
    }
  },
  "nbformat_minor": 0,
  "nbformat": 4,
  "cells": [
    {
      "cell_type": "markdown",
      "metadata": {
        "id": "view-in-github",
        "colab_type": "text"
      },
      "source": [
        "<a href=\"https://colab.research.google.com/github/Bempong-Sylvester-Obese/RSNA-Intracranial-Aneurysm-Detection/blob/main/Exploratory_Data_Analysis.ipynb\" target=\"_parent\"><img src=\"https://colab.research.google.com/assets/colab-badge.svg\" alt=\"Open In Colab\"/></a>"
      ]
    },
    {
      "cell_type": "code",
      "metadata": {
        "id": "uvXfHSWubqEv"
      },
      "source": [
        "import os\n",
        "from google.colab import drive\n",
        "\n",
        "# Mount Google Drive if not already mounted\n",
        "if not os.path.exists('/content/drive'):\n",
        "    drive.mount('/content/drive')\n",
        "\n",
        "# Define the path to kaggle.json in your Google Drive\n",
        "kaggle_json_path_drive = '/content/drive/MyDrive/.kaggle/kaggle.json'\n",
        "\n",
        "# Define the destination path for kaggle.json in the root directory\n",
        "kaggle_json_path_root = '/root/.kaggle/kaggle.json'\n",
        "\n",
        "# Create the .kaggle directory in the root if it doesn't exist\n",
        "if not os.path.exists('/root/.kaggle'):\n",
        "    os.makedirs('/root/.kaggle')\n",
        "\n",
        "# Copy kaggle.json from Drive to the root directory\n",
        "if os.path.exists(kaggle_json_path_drive):\n",
        "    !cp \"{kaggle_json_path_drive}\" \"{kaggle_json_path_root}\"\n",
        "    !chmod 600 \"{kaggle_json_path_root}\"\n",
        "    print(\"kaggle.json copied to /root/.kaggle/\")\n",
        "else:\n",
        "    print(f\"Error: {kaggle_json_path_drive} not found. Please ensure kaggle.json is in the correct location in your Google Drive.\")\n",
        "\n",
        "# Kaggle API's expected location\n",
        "kaggle_config_path = '/root/.config/kaggle'\n",
        "if not os.path.exists(kaggle_config_path):\n",
        "    os.makedirs(kaggle_config_path)\n",
        "\n",
        "kaggle_json_path_config = os.path.join(kaggle_config_path, 'kaggle.json')\n",
        "\n",
        "if os.path.exists(kaggle_json_path_root):\n",
        "    !cp \"{kaggle_json_path_root}\" \"{kaggle_json_path_config}\"\n",
        "    !chmod 600 \"{kaggle_json_path_config}\"\n",
        "    print(\"kaggle.json copied to /root/.config/kaggle/\")\n",
        "else:\n",
        "    print(f\"Error: {kaggle_json_path_root} not found. Cannot copy to {kaggle_config_path}.\")\n",
        "\n",
        "\n",
        "# Attempt the download and extraction\n",
        "!kaggle competitions download -c rsna-intracranial-aneurysm-detection -p ./data\n",
        "!unzip ./data/rsna-intracranial-aneurysm-detection.zip train_series_descriptions.csv -d ./data\n",
        "\n",
        "# Read the CSV into a DataFrame and display the head\n",
        "train_series_df = pd.read_csv('./data/train_series_descriptions.csv')\n",
        "display(train_series_df.head())"
      ],
      "execution_count": null,
      "outputs": []
    }
  ]
}