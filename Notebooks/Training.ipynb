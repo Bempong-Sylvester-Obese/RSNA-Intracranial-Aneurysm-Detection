{
 "cells": [
  {
   "cell_type": "markdown",
   "id": "25df31ff",
   "metadata": {
    "papermill": {
     "duration": 0.002107,
     "end_time": "2025-08-09T00:26:52.218955",
     "exception": false,
     "start_time": "2025-08-09T00:26:52.216848",
     "status": "completed"
    },
    "tags": []
   },
   "source": [
    "**IMPORTS AND SETUP**"
   ]
  },
  {
   "cell_type": "code",
   "execution_count": 1,
   "id": "2be4103b",
   "metadata": {
    "execution": {
     "iopub.execute_input": "2025-08-09T00:26:52.223774Z",
     "iopub.status.busy": "2025-08-09T00:26:52.223354Z",
     "iopub.status.idle": "2025-08-09T00:27:10.689765Z",
     "shell.execute_reply": "2025-08-09T00:27:10.688437Z"
    },
    "papermill": {
     "duration": 18.47143,
     "end_time": "2025-08-09T00:27:10.692098",
     "exception": false,
     "start_time": "2025-08-09T00:26:52.220668",
     "status": "completed"
    },
    "tags": []
   },
   "outputs": [
    {
     "name": "stdout",
     "output_type": "stream",
     "text": [
      "Using device: cpu\n"
     ]
    }
   ],
   "source": [
    "import os\n",
    "import numpy as np\n",
    "import pandas as pd\n",
    "import matplotlib.pyplot as plt\n",
    "import seaborn as sns\n",
    "from pathlib import Path\n",
    "import warnings\n",
    "warnings.filterwarnings('ignore')\n",
    "import torch\n",
    "import torch.nn as nn\n",
    "import torch.nn.functional as F\n",
    "from torch.utils.data import Dataset, DataLoader\n",
    "from torchvision import transforms, models\n",
    "import albumentations as A\n",
    "from albumentations.pytorch import ToTensorV2\n",
    "from sklearn.model_selection import StratifiedKFold\n",
    "from sklearn.metrics import roc_auc_score\n",
    "import optuna\n",
    "import cv2\n",
    "from PIL import Image\n",
    "from tqdm import tqdm\n",
    "\n",
    "# Set random seeds for reproducibility\n",
    "def set_seed(seed=42):\n",
    "    np.random.seed(seed)\n",
    "    torch.manual_seed(seed)\n",
    "    torch.cuda.manual_seed(seed)\n",
    "    torch.cuda.manual_seed_all(seed)\n",
    "    torch.backends.cudnn.deterministic = True\n",
    "    torch.backends.cudnn.benchmark = False\n",
    "\n",
    "set_seed(42)\n",
    "\n",
    "# Check if GPU is available\n",
    "device = torch.device('cuda' if torch.cuda.is_available() else 'cpu')\n",
    "print(f\"Using device: {device}\")"
   ]
  },
  {
   "cell_type": "markdown",
   "id": "97de0ce5",
   "metadata": {
    "papermill": {
     "duration": 0.001376,
     "end_time": "2025-08-09T00:27:10.695574",
     "exception": false,
     "start_time": "2025-08-09T00:27:10.694198",
     "status": "completed"
    },
    "tags": []
   },
   "source": [
    "**DATA CONFIGURATION AND PATHS**"
   ]
  },
  {
   "cell_type": "code",
   "execution_count": null,
   "id": "a99bcd45",
   "metadata": {
    "papermill": {
     "duration": 0.00129,
     "end_time": "2025-08-09T00:27:10.698478",
     "exception": false,
     "start_time": "2025-08-09T00:27:10.697188",
     "status": "completed"
    },
    "tags": []
   },
   "outputs": [],
   "source": []
  }
 ],
 "metadata": {
  "kaggle": {
   "accelerator": "none",
   "dataSources": [
    {
     "databundleVersionId": 13190393,
     "sourceId": 99552,
     "sourceType": "competition"
    }
   ],
   "dockerImageVersionId": 31089,
   "isGpuEnabled": false,
   "isInternetEnabled": true,
   "language": "python",
   "sourceType": "notebook"
  },
  "kernelspec": {
   "display_name": "Python 3",
   "language": "python",
   "name": "python3"
  },
  "language_info": {
   "codemirror_mode": {
    "name": "ipython",
    "version": 3
   },
   "file_extension": ".py",
   "mimetype": "text/x-python",
   "name": "python",
   "nbconvert_exporter": "python",
   "pygments_lexer": "ipython3",
   "version": "3.11.13"
  },
  "papermill": {
   "default_parameters": {},
   "duration": 26.107737,
   "end_time": "2025-08-09T00:27:13.446531",
   "environment_variables": {},
   "exception": null,
   "input_path": "__notebook__.ipynb",
   "output_path": "__notebook__.ipynb",
   "parameters": {},
   "start_time": "2025-08-09T00:26:47.338794",
   "version": "2.6.0"
  }
 },
 "nbformat": 4,
 "nbformat_minor": 5
}
