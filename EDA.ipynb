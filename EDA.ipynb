{
  "metadata": {
    "kernelspec": {
      "language": "python",
      "display_name": "Python 3",
      "name": "python3"
    },
    "language_info": {
      "name": "python",
      "version": "3.11.13",
      "mimetype": "text/x-python",
      "codemirror_mode": {
        "name": "ipython",
        "version": 3
      },
      "pygments_lexer": "ipython3",
      "nbconvert_exporter": "python",
      "file_extension": ".py"
    },
    "kaggle": {
      "accelerator": "none",
      "dataSources": [
        {
          "sourceId": 99552,
          "databundleVersionId": 13190393,
          "sourceType": "competition"
        }
      ],
      "dockerImageVersionId": 31089,
      "isInternetEnabled": true,
      "language": "python",
      "sourceType": "notebook",
      "isGpuEnabled": false
    },
    "colab": {
      "provenance": [],
      "include_colab_link": true
    }
  },
  "nbformat_minor": 0,
  "nbformat": 4,
  "cells": [
    {
      "cell_type": "markdown",
      "metadata": {
        "id": "view-in-github",
        "colab_type": "text"
      },
      "source": [
        "<a href=\"https://colab.research.google.com/github/Bempong-Sylvester-Obese/RSNA-Intracranial-Aneurysm-Detection/blob/main/EDA.ipynb\" target=\"_parent\"><img src=\"https://colab.research.google.com/assets/colab-badge.svg\" alt=\"Open In Colab\"/></a>"
      ]
    },
    {
      "source": [
        "# IMPORTANT: SOME KAGGLE DATA SOURCES ARE PRIVATE\n",
        "# RUN THIS CELL IN ORDER TO IMPORT YOUR KAGGLE DATA SOURCES.\n",
        "import kagglehub\n",
        "kagglehub.login()\n"
      ],
      "metadata": {
        "id": "NntLwQ_lrq0f"
      },
      "cell_type": "code",
      "outputs": [],
      "execution_count": null
    },
    {
      "source": [
        "# IMPORTANT: RUN THIS CELL IN ORDER TO IMPORT YOUR KAGGLE DATA SOURCES,\n",
        "# THEN FEEL FREE TO DELETE THIS CELL.\n",
        "# NOTE: THIS NOTEBOOK ENVIRONMENT DIFFERS FROM KAGGLE'S PYTHON\n",
        "# ENVIRONMENT SO THERE MAY BE MISSING LIBRARIES USED BY YOUR\n",
        "# NOTEBOOK.\n",
        "\n",
        "rsna_intracranial_aneurysm_detection_path = kagglehub.competition_download('rsna-intracranial-aneurysm-detection')\n",
        "\n",
        "print('Data source import complete.')\n"
      ],
      "metadata": {
        "id": "64e7N7bBrq0h"
      },
      "cell_type": "code",
      "outputs": [],
      "execution_count": null
    },
    {
      "cell_type": "code",
      "source": [
        "import pandas as pd\n",
        "import os\n",
        "import numpy as np\n",
        "import pydicom\n",
        "import nibabel as nib\n",
        "import matplotlib.pyplot as plt\n",
        "import seaborn as sns\n",
        "from glob import glob\n",
        "from tqdm.notebook import tqdm\n",
        "import seaborn as sns\n",
        "import warnings\n",
        "warnings.filterwarnings(\"ignore\")"
      ],
      "metadata": {
        "_uuid": "8f2839f25d086af736a60e9eeb907d3b93b6e0e5",
        "_cell_guid": "b1076dfc-b9ad-4769-8c92-a6c4dae69d19",
        "trusted": true,
        "execution": {
          "iopub.status.busy": "2025-07-30T15:04:48.648954Z",
          "iopub.execute_input": "2025-07-30T15:04:48.649363Z",
          "iopub.status.idle": "2025-07-30T15:04:50.297163Z",
          "shell.execute_reply.started": "2025-07-30T15:04:48.64933Z",
          "shell.execute_reply": "2025-07-30T15:04:50.296128Z"
        },
        "id": "eOHYvSo2rq0h"
      },
      "outputs": [],
      "execution_count": null
    },
    {
      "cell_type": "code",
      "source": [
        "pd.set_option('display.max_columns', None) # we want to display all columns in this notebook\n",
        "pd.set_option('display.max_rows', 100) # increase number of displayed rows\n",
        "pd.set_option('max_colwidth', None) # make full cells content visible"
      ],
      "metadata": {
        "_uuid": "8f2839f25d086af736a60e9eeb907d3b93b6e0e5",
        "_cell_guid": "b1076dfc-b9ad-4769-8c92-a6c4dae69d19",
        "trusted": true,
        "execution": {
          "iopub.status.busy": "2025-07-30T15:04:50.298201Z",
          "iopub.execute_input": "2025-07-30T15:04:50.298957Z",
          "iopub.status.idle": "2025-07-30T15:04:50.304997Z",
          "shell.execute_reply.started": "2025-07-30T15:04:50.298928Z",
          "shell.execute_reply": "2025-07-30T15:04:50.303994Z"
        },
        "id": "D1zk3_6zrq0h"
      },
      "outputs": [],
      "execution_count": null
    },
    {
      "cell_type": "code",
      "source": [
        "DATA_DIR = \"/kaggle/input/rsna-intracranial-aneurysm-detection/\"\n",
        "SEGMENTATION_DIR = os.path.join(DATA_DIR, \"segmentation\")\n",
        "SERIES_DIR = os.path.join(DATA_DIR, \"series\")"
      ],
      "metadata": {
        "trusted": true,
        "execution": {
          "iopub.status.busy": "2025-07-30T15:04:50.305885Z",
          "iopub.execute_input": "2025-07-30T15:04:50.306227Z",
          "iopub.status.idle": "2025-07-30T15:04:50.335655Z",
          "shell.execute_reply.started": "2025-07-30T15:04:50.306187Z",
          "shell.execute_reply": "2025-07-30T15:04:50.334563Z"
        },
        "id": "HWDBfrNorq0i"
      },
      "outputs": [],
      "execution_count": null
    },
    {
      "cell_type": "code",
      "source": [
        "# CSV files\n",
        "# --- 1. Load and Inspect CSV Data ---\n",
        "print(\"--- 1. Loading and Inspecting CSV Data ---\")\n",
        "train_df = pd.read_csv(os.path.join(DATA_DIR, \"train.csv\"))\n",
        "localizers_df = pd.read_csv(os.path.join(DATA_DIR, \"train_localizers.csv\"))\n",
        "print(f\"Loaded {len(train_df)} rows from train.csv\")\n",
        "print(f\"Loaded {len(localizers_df)} rows from train_localizers.csv\")\n",
        "print(\"\\n--- train.csv head ---\")\n",
        "display(train_df.head())\n",
        "print(\"\\n--- train_localizers.csv head ---\")\n",
        "display(localizers_df.head())"
      ],
      "metadata": {
        "trusted": true,
        "execution": {
          "iopub.status.busy": "2025-07-30T15:38:44.487475Z",
          "iopub.execute_input": "2025-07-30T15:38:44.487843Z",
          "iopub.status.idle": "2025-07-30T15:38:44.553251Z",
          "shell.execute_reply.started": "2025-07-30T15:38:44.487817Z",
          "shell.execute_reply": "2025-07-30T15:38:44.551969Z"
        },
        "id": "3SfAqqoSrq0i"
      },
      "outputs": [],
      "execution_count": null
    },
    {
      "cell_type": "code",
      "source": [
        "print(train_df.columns)\n",
        "print(localizers_df.columns)"
      ],
      "metadata": {
        "trusted": true,
        "execution": {
          "iopub.status.busy": "2025-07-30T15:04:50.425956Z",
          "iopub.execute_input": "2025-07-30T15:04:50.426291Z",
          "iopub.status.idle": "2025-07-30T15:04:50.432613Z",
          "shell.execute_reply.started": "2025-07-30T15:04:50.426247Z",
          "shell.execute_reply": "2025-07-30T15:04:50.431083Z"
        },
        "id": "4-uM84gYrq0i"
      },
      "outputs": [],
      "execution_count": null
    },
    {
      "cell_type": "code",
      "source": [
        "# --- 2. Statistical Analysis and Visualization of CSV Data ---\n",
        "print(\"\\n--- 2. Statistical Analysis and Visualization of CSV Data ---\")\n",
        "\n",
        "# Modality Distribution\n",
        "plt.figure(figsize=(8, 5))\n",
        "sns.countplot(data=train_df, x='Modality', palette='viridis')\n",
        "plt.title('Distribution of Modalities in Training Data')\n",
        "plt.xlabel('Modality')\n",
        "plt.ylabel('Number of Series')\n",
        "plt.grid(axis='y', linestyle='--', alpha=0.7)\n",
        "plt.show()\n",
        "\n",
        "# Aneurysm Presence Distribution\n",
        "plt.figure(figsize=(6, 4))\n",
        "sns.countplot(data=train_df, x='Aneurysm Present', palette='coolwarm')\n",
        "plt.title('Distribution of Aneurysm Presence')\n",
        "plt.xlabel('Aneurysm Present (0: No, 1: Yes)')\n",
        "plt.ylabel('Number of Series')\n",
        "plt.xticks([0, 1], ['No Aneurysm', 'Aneurysm'])\n",
        "plt.grid(axis='y', linestyle='--', alpha=0.7)\n",
        "plt.show()"
      ],
      "metadata": {
        "trusted": true,
        "execution": {
          "iopub.status.busy": "2025-07-30T15:04:50.435681Z",
          "iopub.execute_input": "2025-07-30T15:04:50.436188Z",
          "iopub.status.idle": "2025-07-30T15:04:50.823803Z",
          "shell.execute_reply.started": "2025-07-30T15:04:50.436148Z",
          "shell.execute_reply": "2025-07-30T15:04:50.822536Z"
        },
        "id": "ZTI7Aernrq0i"
      },
      "outputs": [],
      "execution_count": null
    },
    {
      "cell_type": "code",
      "source": [
        "# 6. Analyze modalities\n",
        "def analyze_modality_distribution(train_df):\n",
        "    \"\"\"Analyze the distribution of imaging modalities\"\"\"\n",
        "\n",
        "    print(\"\\n\" + \"=\"*50)\n",
        "    print(\"🖼️ IMAGING MODALITY ANALYSIS\")\n",
        "    print(\"=\"*50)\n",
        "\n",
        "    if 'Modality' in train_df.columns:\n",
        "        modality_counts = train_df['Modality'].value_counts()\n",
        "        print(\"Modality Distribution:\")\n",
        "        print(modality_counts)\n",
        "\n",
        "        # Visualize modality distribution\n",
        "        plt.figure(figsize=(12, 6))\n",
        "\n",
        "        plt.subplot(1, 2, 1)\n",
        "        modality_counts.plot(kind='bar', color='skyblue', edgecolor='black')\n",
        "        plt.title('Distribution of Imaging Modalities')\n",
        "        plt.xlabel('Modality')\n",
        "        plt.ylabel('Number of Series')\n",
        "        plt.xticks(rotation=45)\n",
        "\n",
        "        plt.subplot(1, 2, 2)\n",
        "        plt.pie(modality_counts.values, labels=modality_counts.index, autopct='%1.1f%%', startangle=90)\n",
        "        plt.title('Modality Distribution (%)')\n",
        "\n",
        "        plt.tight_layout()\n",
        "        plt.show()\n",
        "\n",
        "        return modality_counts\n",
        "    else:\n",
        "        print(\"❌ No 'Modality' column found in train.csv\")\n",
        "        return None\n",
        "modality_counts = analyze_modality_distribution(train_df)"
      ],
      "metadata": {
        "trusted": true,
        "execution": {
          "iopub.status.busy": "2025-07-30T15:13:33.153216Z",
          "iopub.execute_input": "2025-07-30T15:13:33.15401Z",
          "iopub.status.idle": "2025-07-30T15:13:33.572829Z",
          "shell.execute_reply.started": "2025-07-30T15:13:33.153976Z",
          "shell.execute_reply": "2025-07-30T15:13:33.571795Z"
        },
        "id": "aydwNTPPrq0i"
      },
      "outputs": [],
      "execution_count": null
    },
    {
      "cell_type": "code",
      "source": [
        "# Group age into bins\n",
        "train_df['AgeGroup'] = pd.cut(train_df['PatientAge'], bins=[0, 20, 40, 60, 80, 100], labels=[\"0–20\", \"21–40\", \"41–60\", \"61–80\", \"81+\"])\n",
        "\n",
        "# Sex distribution\n",
        "sns.countplot(x=\"PatientSex\", data=train_df)\n",
        "plt.title(\"Patient Sex Distribution\")\n",
        "plt.show()\n"
      ],
      "metadata": {
        "trusted": true,
        "execution": {
          "iopub.status.busy": "2025-07-30T15:04:50.825209Z",
          "iopub.execute_input": "2025-07-30T15:04:50.825648Z",
          "iopub.status.idle": "2025-07-30T15:04:51.011327Z",
          "shell.execute_reply.started": "2025-07-30T15:04:50.825609Z",
          "shell.execute_reply": "2025-07-30T15:04:51.009457Z"
        },
        "id": "lE-ayC1lrq0j"
      },
      "outputs": [],
      "execution_count": null
    },
    {
      "cell_type": "code",
      "source": [
        "# Age group by sex\n",
        "sns.countplot(data=train_df, x=\"AgeGroup\", hue=\"PatientSex\")\n",
        "plt.title(\"Age Group by Sex\")\n",
        "plt.show()"
      ],
      "metadata": {
        "trusted": true,
        "execution": {
          "iopub.status.busy": "2025-07-30T15:04:51.013257Z",
          "iopub.execute_input": "2025-07-30T15:04:51.013871Z",
          "iopub.status.idle": "2025-07-30T15:04:51.247146Z",
          "shell.execute_reply.started": "2025-07-30T15:04:51.013836Z",
          "shell.execute_reply": "2025-07-30T15:04:51.246145Z"
        },
        "id": "mouU7oD6rq0j"
      },
      "outputs": [],
      "execution_count": null
    },
    {
      "cell_type": "code",
      "source": [
        "# Age Distribution by Aneurysm Status\n",
        "import seaborn as sns\n",
        "import matplotlib.pyplot as plt\n",
        "\n",
        "# Convert age to numeric (handling possible string entries)\n",
        "train_df['PatientAge'] = pd.to_numeric(train_df['PatientAge'], errors='coerce')\n",
        "\n",
        "# Plot age distribution\n",
        "plt.figure(figsize=(10, 5))\n",
        "sns.histplot(data=train_df, x='PatientAge', hue='Aneurysm Present',\n",
        "             bins=30, kde=True, element='step', palette=['#1f77b4', '#ff7f0e'])\n",
        "plt.title('Age Distribution by Aneurysm Status')\n",
        "plt.xlabel('Age')\n",
        "plt.ylabel('Count')\n",
        "plt.show()\n",
        "\n",
        "# Statistical summary\n",
        "print(\"Age stats for aneurysm cases:\\n\", train_df[train_df['Aneurysm Present'] == 1]['PatientAge'].describe())\n",
        "print(\"\\nAge stats for non-aneurysm cases:\\n\", train_df[train_df['Aneurysm Present'] == 0]['PatientAge'].describe())"
      ],
      "metadata": {
        "trusted": true,
        "execution": {
          "iopub.status.busy": "2025-07-30T15:04:51.248444Z",
          "iopub.execute_input": "2025-07-30T15:04:51.248722Z",
          "iopub.status.idle": "2025-07-30T15:04:51.622201Z",
          "shell.execute_reply.started": "2025-07-30T15:04:51.248699Z",
          "shell.execute_reply": "2025-07-30T15:04:51.621169Z"
        },
        "id": "nV5MtPizrq0j"
      },
      "outputs": [],
      "execution_count": null
    },
    {
      "cell_type": "code",
      "source": [
        "# Sex Distribution by Aneurysm Status\n",
        "# Plot sex distribution\n",
        "plt.figure(figsize=(6, 4))\n",
        "sns.countplot(data=train_df, x='PatientSex', hue='Aneurysm Present',\n",
        "              palette=['#1f77b4', '#ff7f0e'])\n",
        "plt.title('Sex Distribution by Aneurysm Status')\n",
        "plt.xlabel('Sex')\n",
        "plt.ylabel('Count')\n",
        "plt.show()\n",
        "\n",
        "# Cross-tabulation\n",
        "print(pd.crosstab(train_df['PatientSex'], train_df['Aneurysm Present'],\n",
        "      margins=True, margins_name=\"Total\"))"
      ],
      "metadata": {
        "trusted": true,
        "execution": {
          "iopub.status.busy": "2025-07-30T15:04:51.623263Z",
          "iopub.execute_input": "2025-07-30T15:04:51.623647Z",
          "iopub.status.idle": "2025-07-30T15:04:51.865169Z",
          "shell.execute_reply.started": "2025-07-30T15:04:51.623618Z",
          "shell.execute_reply": "2025-07-30T15:04:51.863737Z"
        },
        "id": "uu9ynd_-rq0j"
      },
      "outputs": [],
      "execution_count": null
    },
    {
      "cell_type": "code",
      "source": [
        "\n",
        "# Get location columns\n",
        "location_cols = [col for col in train_df.columns if col not in ['SeriesInstanceUID', 'PatientAge', 'PatientSex', 'Modality', 'Aneurysm Present']]\n",
        "\n",
        "# Convert to numeric if not already\n",
        "train_df[location_cols] = train_df[location_cols].apply(pd.to_numeric, errors='coerce').fillna(0).astype(int)\n",
        "\n",
        "# Calculate count and percentage\n",
        "location_counts = train_df[location_cols].sum().sort_values(ascending=False)\n",
        "location_percentages = location_counts / location_counts.sum() * 100\n",
        "\n",
        "# Plotting\n",
        "fig, axes = plt.subplots(1, 2, figsize=(18, 8))\n",
        "\n",
        "# Bar chart\n",
        "sns.barplot(x=location_counts.values, y=location_counts.index, ax=axes[0], palette='mako')\n",
        "axes[0].set_title(\"Aneurysm Count per Brain Location\")\n",
        "axes[0].set_xlabel(\"Count\")\n",
        "axes[0].set_ylabel(\"Brain Location\")\n",
        "\n",
        "# Annotate with count and percentage\n",
        "for i, (count, percent) in enumerate(zip(location_counts.values, location_percentages.values)):\n",
        "    axes[0].text(count + 1, i, f\"{int(count)} ({percent:.1f}%)\", va='center')\n",
        "\n",
        "# Pie chart\n",
        "axes[1].pie(location_counts.values,\n",
        "            labels=[f\"{loc}\\n{val} ({pct:.1f}%)\" for loc, val, pct in zip(location_counts.index, location_counts.values, location_percentages.values)],\n",
        "            autopct=None,\n",
        "            startangle=140,\n",
        "            colors=sns.color_palette(\"mako\", len(location_counts)))\n",
        "axes[1].set_title(\"Aneurysm Distribution by Location (Percentage)\")\n",
        "\n",
        "plt.tight_layout()\n",
        "plt.show()\n"
      ],
      "metadata": {
        "trusted": true,
        "execution": {
          "iopub.status.busy": "2025-07-30T15:28:44.481879Z",
          "iopub.execute_input": "2025-07-30T15:28:44.482242Z",
          "iopub.status.idle": "2025-07-30T15:28:45.07694Z",
          "shell.execute_reply.started": "2025-07-30T15:28:44.482218Z",
          "shell.execute_reply": "2025-07-30T15:28:45.0758Z"
        },
        "id": "BYYyh4kcrq0j"
      },
      "outputs": [],
      "execution_count": null
    },
    {
      "cell_type": "markdown",
      "source": [
        "### localizer.csv"
      ],
      "metadata": {
        "id": "cNadyo6Crq0j"
      }
    },
    {
      "cell_type": "code",
      "source": [
        "import ast\n",
        "# Convert string coordinates to dictionaries\n",
        "localizers_df['coords'] = localizers_df['coordinates'].apply(ast.literal_eval)"
      ],
      "metadata": {
        "trusted": true,
        "execution": {
          "iopub.status.busy": "2025-07-30T15:39:34.557035Z",
          "iopub.execute_input": "2025-07-30T15:39:34.557449Z",
          "iopub.status.idle": "2025-07-30T15:39:34.604997Z",
          "shell.execute_reply.started": "2025-07-30T15:39:34.557418Z",
          "shell.execute_reply": "2025-07-30T15:39:34.603803Z"
        },
        "id": "7gYI4wsKrq0k"
      },
      "outputs": [],
      "execution_count": null
    },
    {
      "cell_type": "code",
      "source": [
        "# Extract x, y, z coordinates\n",
        "localizers_df['x'] = localizers_df['coords'].apply(lambda x: x.get('x', np.nan))\n",
        "localizers_df['y'] = localizers_df['coords'].apply(lambda x: x.get('y', np.nan))\n",
        "print(localizers_df[['SeriesInstanceUID', 'SOPInstanceUID', 'location', 'x', 'y']].head())"
      ],
      "metadata": {
        "trusted": true,
        "execution": {
          "iopub.status.busy": "2025-07-30T15:39:43.588958Z",
          "iopub.execute_input": "2025-07-30T15:39:43.589295Z",
          "iopub.status.idle": "2025-07-30T15:39:43.605505Z",
          "shell.execute_reply.started": "2025-07-30T15:39:43.589257Z",
          "shell.execute_reply": "2025-07-30T15:39:43.604369Z"
        },
        "id": "KCA096BCrq0k"
      },
      "outputs": [],
      "execution_count": null
    },
    {
      "cell_type": "code",
      "source": [
        "# Analyze Location Distribution\n",
        "plt.figure(figsize=(10, 5))\n",
        "sns.countplot(y=\"location\", data=localizers_df, order=localizers_df['location'].value_counts().index)\n",
        "plt.title(\"Brain Location Distribution (where aneurysm is present)\")\n",
        "plt.show()\n"
      ],
      "metadata": {
        "trusted": true,
        "execution": {
          "iopub.status.busy": "2025-07-30T15:40:48.17231Z",
          "iopub.execute_input": "2025-07-30T15:40:48.172983Z",
          "iopub.status.idle": "2025-07-30T15:40:48.48115Z",
          "shell.execute_reply.started": "2025-07-30T15:40:48.172949Z",
          "shell.execute_reply": "2025-07-30T15:40:48.480134Z"
        },
        "id": "KZcTRBEerq0l"
      },
      "outputs": [],
      "execution_count": null
    },
    {
      "cell_type": "code",
      "source": [
        "# Heatmap of Coordinate Densities\n",
        "heatmap_data = localizers_df[['x', 'y']].dropna()\n",
        "\n",
        "plt.hist2d(heatmap_data['x'], heatmap_data['y'], bins=50, cmap='hot')\n",
        "plt.colorbar(label='Frequency')\n",
        "plt.title(\"Heatmap of Aneurysm Coordinates\")\n",
        "plt.xlabel(\"x\")\n",
        "plt.ylabel(\"y\")\n",
        "plt.show()"
      ],
      "metadata": {
        "trusted": true,
        "execution": {
          "iopub.status.busy": "2025-07-30T15:45:51.451214Z",
          "iopub.execute_input": "2025-07-30T15:45:51.451584Z",
          "iopub.status.idle": "2025-07-30T15:45:51.72131Z",
          "shell.execute_reply.started": "2025-07-30T15:45:51.451561Z",
          "shell.execute_reply": "2025-07-30T15:45:51.719924Z"
        },
        "id": "DpgTSKbfrq0l"
      },
      "outputs": [],
      "execution_count": null
    },
    {
      "cell_type": "code",
      "source": [],
      "metadata": {
        "trusted": true,
        "id": "v5kurrfJrq0l"
      },
      "outputs": [],
      "execution_count": null
    },
    {
      "cell_type": "code",
      "source": [
        "# Merge with aneurysm labels\n",
        "# merged_df = localizers_df.merge(train_df[['SeriesInstanceUID', 'Aneurysm Present']],\n",
        "#                                on='SeriesInstanceUID', how='left')\n",
        "\n",
        "merged_df = pd.merge(train_df, localizers_df, on='SeriesInstanceUID', how='left')\n"
      ],
      "metadata": {
        "trusted": true,
        "execution": {
          "iopub.status.busy": "2025-07-30T16:02:27.676871Z",
          "iopub.execute_input": "2025-07-30T16:02:27.677226Z",
          "iopub.status.idle": "2025-07-30T16:02:27.691734Z",
          "shell.execute_reply.started": "2025-07-30T16:02:27.677201Z",
          "shell.execute_reply": "2025-07-30T16:02:27.690662Z"
        },
        "id": "rEQk1Ad7rq0l"
      },
      "outputs": [],
      "execution_count": null
    },
    {
      "cell_type": "code",
      "source": [
        "# Age vs Location\n",
        "plt.figure(figsize=(10, 6))\n",
        "sns.boxplot(data=merged_df, x='location', y='PatientAge')\n",
        "plt.xticks(rotation=45)\n",
        "plt.title(\"Patient Age by Aneurysm Location\")\n",
        "plt.show()\n",
        "\n",
        "# Sex vs Location\n",
        "plt.figure(figsize=(10, 5))\n",
        "sns.countplot(data=merged_df, x='location', hue='PatientSex')\n",
        "plt.xticks(rotation=45)\n",
        "plt.title(\"Aneurysm Location by Patient Sex\")\n",
        "plt.tight_layout()\n",
        "plt.show()"
      ],
      "metadata": {
        "trusted": true,
        "execution": {
          "iopub.status.busy": "2025-07-30T15:47:00.352004Z",
          "iopub.execute_input": "2025-07-30T15:47:00.352396Z",
          "iopub.status.idle": "2025-07-30T15:47:01.07879Z",
          "shell.execute_reply.started": "2025-07-30T15:47:00.352371Z",
          "shell.execute_reply": "2025-07-30T15:47:01.07763Z"
        },
        "id": "fOgVY44xrq0l"
      },
      "outputs": [],
      "execution_count": null
    },
    {
      "cell_type": "code",
      "source": [
        "plt.figure(figsize=(10, 8))\n",
        "sns.scatterplot(data=merged_df[merged_df['Aneurysm Present'] == 1],\n",
        "                x='x', y='y', hue='location', palette='viridis', s=100, alpha=0.7)\n",
        "plt.title('Aneurysm Spatial Distribution (x-y plane)')\n",
        "plt.xlabel('X Coordinate')\n",
        "plt.ylabel('Y Coordinate')\n",
        "plt.legend(bbox_to_anchor=(1.05, 1), loc='upper left')\n",
        "plt.show()"
      ],
      "metadata": {
        "trusted": true,
        "execution": {
          "iopub.status.busy": "2025-07-30T15:50:01.12163Z",
          "iopub.execute_input": "2025-07-30T15:50:01.12194Z",
          "iopub.status.idle": "2025-07-30T15:50:01.766541Z",
          "shell.execute_reply.started": "2025-07-30T15:50:01.121919Z",
          "shell.execute_reply": "2025-07-30T15:50:01.765357Z"
        },
        "id": "yfJ7lEUqrq0l"
      },
      "outputs": [],
      "execution_count": null
    },
    {
      "cell_type": "code",
      "source": [
        "# Brain Location Frequency\n",
        "# Count aneurysms per brain location\n",
        "location_counts = merged_df[merged_df['Aneurysm Present'] == 1]['location'].value_counts()\n",
        "\n",
        "# Plot\n",
        "plt.figure(figsize=(12, 6))\n",
        "sns.barplot(x=location_counts.values, y=location_counts.index, palette='rocket')\n",
        "plt.title('Aneurysm Frequency by Brain Location')\n",
        "plt.xlabel('Count')\n",
        "plt.ylabel('Location')\n",
        "plt.show()"
      ],
      "metadata": {
        "trusted": true,
        "execution": {
          "iopub.status.busy": "2025-07-30T15:51:00.372379Z",
          "iopub.execute_input": "2025-07-30T15:51:00.373053Z",
          "iopub.status.idle": "2025-07-30T15:51:00.714592Z",
          "shell.execute_reply.started": "2025-07-30T15:51:00.373015Z",
          "shell.execute_reply": "2025-07-30T15:51:00.713347Z"
        },
        "id": "3LR83gkWrq0l"
      },
      "outputs": [],
      "execution_count": null
    },
    {
      "cell_type": "code",
      "source": [
        "merged_df.columns"
      ],
      "metadata": {
        "trusted": true,
        "execution": {
          "iopub.status.busy": "2025-07-30T15:52:00.842585Z",
          "iopub.execute_input": "2025-07-30T15:52:00.842935Z",
          "iopub.status.idle": "2025-07-30T15:52:00.852335Z",
          "shell.execute_reply.started": "2025-07-30T15:52:00.842911Z",
          "shell.execute_reply": "2025-07-30T15:52:00.851141Z"
        },
        "id": "-X2hmFKhrq0l"
      },
      "outputs": [],
      "execution_count": null
    },
    {
      "cell_type": "code",
      "source": [
        "# Age distribution by location\n",
        "plt.figure(figsize=(12, 6))\n",
        "sns.boxplot(data=merged_df[merged_df['Aneurysm Present'] == 1],\n",
        "            x='location', y='PatientAge', palette='Set3')\n",
        "plt.title('Age Distribution by Aneurysm Location')\n",
        "plt.xticks(rotation=45)\n",
        "plt.show()\n",
        "\n",
        "# Sex distribution by location\n",
        "plt.figure(figsize=(12, 6))\n",
        "sns.countplot(data=merged_df[merged_df['Aneurysm Present'] == 1],\n",
        "              x='location', hue='PatientSex', palette='Set2')\n",
        "plt.title('Sex Distribution by Aneurysm Location')\n",
        "plt.xticks(rotation=45)\n",
        "plt.legend(title='Sex')\n",
        "plt.show()"
      ],
      "metadata": {
        "trusted": true,
        "execution": {
          "iopub.status.busy": "2025-07-30T16:02:36.005159Z",
          "iopub.execute_input": "2025-07-30T16:02:36.00556Z",
          "iopub.status.idle": "2025-07-30T16:02:36.773517Z",
          "shell.execute_reply.started": "2025-07-30T16:02:36.005531Z",
          "shell.execute_reply": "2025-07-30T16:02:36.772351Z"
        },
        "id": "s33L9wHDrq0l"
      },
      "outputs": [],
      "execution_count": null
    }
  ]
}